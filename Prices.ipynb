{
 "cells": [
  {
   "cell_type": "code",
   "execution_count": null,
   "metadata": {},
   "outputs": [
    {
     "ename": "ModuleNotFoundError",
     "evalue": "No module named 'pandas'",
     "output_type": "error",
     "traceback": [
      "\u001b[1;31m---------------------------------------------------------------------------\u001b[0m",
      "\u001b[1;31mModuleNotFoundError\u001b[0m                       Traceback (most recent call last)",
      "Cell \u001b[1;32mIn[1], line 4\u001b[0m\n\u001b[0;32m      2\u001b[0m \u001b[38;5;28;01mimport\u001b[39;00m\u001b[38;5;250m \u001b[39m\u001b[38;5;21;01mstring\u001b[39;00m\n\u001b[0;32m      3\u001b[0m \u001b[38;5;28;01mimport\u001b[39;00m\u001b[38;5;250m \u001b[39m\u001b[38;5;21;01mdatetime\u001b[39;00m\n\u001b[1;32m----> 4\u001b[0m \u001b[38;5;28;01mimport\u001b[39;00m\u001b[38;5;250m \u001b[39m\u001b[38;5;21;01mpandas\u001b[39;00m\u001b[38;5;250m \u001b[39m\u001b[38;5;28;01mas\u001b[39;00m\u001b[38;5;250m \u001b[39m\u001b[38;5;21;01mpd\u001b[39;00m\n",
      "\u001b[1;31mModuleNotFoundError\u001b[0m: No module named 'pandas'"
     ]
    }
   ],
   "source": [
    "import random\n",
    "import string\n",
    "import datetime\n",
    "import pandas as pd"
   ]
  },
  {
   "cell_type": "code",
   "execution_count": 6,
   "metadata": {},
   "outputs": [],
   "source": [
    "beginning_date = datetime.date(2023, 1, 1)"
   ]
  },
  {
   "cell_type": "code",
   "execution_count": 57,
   "metadata": {},
   "outputs": [],
   "source": [
    "def generate_products(n,seed,low,high,price_effictive_date=datetime.date(2023,1,1)):\n",
    "    \"\"\"\n",
    "            Generates a list of products with random prices\n",
    "\n",
    "\n",
    "    Args:\n",
    "        n (int): The number of products.\n",
    "        seed (int): The starting number for the product id\n",
    "        low (int): The low end of random price range\n",
    "        high (int): The high end of random price range\n",
    "        price_effective_date (datetime):  The effective Date of the price.\n",
    "\n",
    "\n",
    "    Returns:\n",
    "        list\n",
    "        \"\"\"\n",
    "    products = []\n",
    "    product_line = {}\n",
    "    for item_number in range(seed,n+seed):\n",
    "        random_price = random.randint(low,high)\n",
    "        products.append({\"Item number\":item_number,\"Price\":random_price,\"Price Effective Date\":price_effictive_date,\"Price End Date\":None})\n",
    "    return products\n",
    "       "
   ]
  },
  {
   "cell_type": "code",
   "execution_count": 58,
   "metadata": {},
   "outputs": [
    {
     "name": "stdout",
     "output_type": "stream",
     "text": [
      "[{'Item number': 1000, 'Price': 20424, 'Price Effective Date': datetime.date(2023, 1, 1), 'Price End Date': None}, {'Item number': 1001, 'Price': 22965, 'Price Effective Date': datetime.date(2023, 1, 1), 'Price End Date': None}, {'Item number': 1002, 'Price': 4656, 'Price Effective Date': datetime.date(2023, 1, 1), 'Price End Date': None}, {'Item number': 1003, 'Price': 71658, 'Price Effective Date': datetime.date(2023, 1, 1), 'Price End Date': None}, {'Item number': 1004, 'Price': 17823, 'Price Effective Date': datetime.date(2023, 1, 1), 'Price End Date': None}, {'Item number': 1005, 'Price': 14438, 'Price Effective Date': datetime.date(2023, 1, 1), 'Price End Date': None}, {'Item number': 1006, 'Price': 51386, 'Price Effective Date': datetime.date(2023, 1, 1), 'Price End Date': None}, {'Item number': 1007, 'Price': 21165, 'Price Effective Date': datetime.date(2023, 1, 1), 'Price End Date': None}, {'Item number': 1008, 'Price': 18429, 'Price Effective Date': datetime.date(2023, 1, 1), 'Price End Date': None}, {'Item number': 1009, 'Price': 56252, 'Price Effective Date': datetime.date(2023, 1, 1), 'Price End Date': None}, {'Item number': 1010, 'Price': 599, 'Price Effective Date': datetime.date(2023, 1, 1), 'Price End Date': None}, {'Item number': 1011, 'Price': 53201, 'Price Effective Date': datetime.date(2023, 1, 1), 'Price End Date': None}, {'Item number': 1012, 'Price': 49704, 'Price Effective Date': datetime.date(2023, 1, 1), 'Price End Date': None}, {'Item number': 1013, 'Price': 70393, 'Price Effective Date': datetime.date(2023, 1, 1), 'Price End Date': None}, {'Item number': 1014, 'Price': 43930, 'Price Effective Date': datetime.date(2023, 1, 1), 'Price End Date': None}, {'Item number': 1015, 'Price': 48213, 'Price Effective Date': datetime.date(2023, 1, 1), 'Price End Date': None}, {'Item number': 1016, 'Price': 61703, 'Price Effective Date': datetime.date(2023, 1, 1), 'Price End Date': None}, {'Item number': 1017, 'Price': 70814, 'Price Effective Date': datetime.date(2023, 1, 1), 'Price End Date': None}, {'Item number': 1018, 'Price': 510, 'Price Effective Date': datetime.date(2023, 1, 1), 'Price End Date': None}, {'Item number': 1019, 'Price': 24131, 'Price Effective Date': datetime.date(2023, 1, 1), 'Price End Date': None}, {'Item number': 1020, 'Price': 21620, 'Price Effective Date': datetime.date(2023, 1, 1), 'Price End Date': None}, {'Item number': 1021, 'Price': 26596, 'Price Effective Date': datetime.date(2023, 1, 1), 'Price End Date': None}, {'Item number': 1022, 'Price': 34491, 'Price Effective Date': datetime.date(2023, 1, 1), 'Price End Date': None}, {'Item number': 1023, 'Price': 9082, 'Price Effective Date': datetime.date(2023, 1, 1), 'Price End Date': None}, {'Item number': 1024, 'Price': 45188, 'Price Effective Date': datetime.date(2023, 1, 1), 'Price End Date': None}, {'Item number': 1025, 'Price': 61915, 'Price Effective Date': datetime.date(2023, 1, 1), 'Price End Date': None}, {'Item number': 1026, 'Price': 28318, 'Price Effective Date': datetime.date(2023, 1, 1), 'Price End Date': None}, {'Item number': 1027, 'Price': 15445, 'Price Effective Date': datetime.date(2023, 1, 1), 'Price End Date': None}, {'Item number': 1028, 'Price': 43950, 'Price Effective Date': datetime.date(2023, 1, 1), 'Price End Date': None}, {'Item number': 1029, 'Price': 34423, 'Price Effective Date': datetime.date(2023, 1, 1), 'Price End Date': None}, {'Item number': 1030, 'Price': 639, 'Price Effective Date': datetime.date(2023, 1, 1), 'Price End Date': None}, {'Item number': 1031, 'Price': 50746, 'Price Effective Date': datetime.date(2023, 1, 1), 'Price End Date': None}, {'Item number': 1032, 'Price': 28564, 'Price Effective Date': datetime.date(2023, 1, 1), 'Price End Date': None}, {'Item number': 1033, 'Price': 59686, 'Price Effective Date': datetime.date(2023, 1, 1), 'Price End Date': None}, {'Item number': 1034, 'Price': 1389, 'Price Effective Date': datetime.date(2023, 1, 1), 'Price End Date': None}, {'Item number': 1035, 'Price': 62155, 'Price Effective Date': datetime.date(2023, 1, 1), 'Price End Date': None}, {'Item number': 1036, 'Price': 68672, 'Price Effective Date': datetime.date(2023, 1, 1), 'Price End Date': None}, {'Item number': 1037, 'Price': 1100, 'Price Effective Date': datetime.date(2023, 1, 1), 'Price End Date': None}, {'Item number': 1038, 'Price': 43062, 'Price Effective Date': datetime.date(2023, 1, 1), 'Price End Date': None}, {'Item number': 1039, 'Price': 41501, 'Price Effective Date': datetime.date(2023, 1, 1), 'Price End Date': None}, {'Item number': 1040, 'Price': 36623, 'Price Effective Date': datetime.date(2023, 1, 1), 'Price End Date': None}, {'Item number': 1041, 'Price': 42908, 'Price Effective Date': datetime.date(2023, 1, 1), 'Price End Date': None}, {'Item number': 1042, 'Price': 31586, 'Price Effective Date': datetime.date(2023, 1, 1), 'Price End Date': None}, {'Item number': 1043, 'Price': 56990, 'Price Effective Date': datetime.date(2023, 1, 1), 'Price End Date': None}, {'Item number': 1044, 'Price': 18950, 'Price Effective Date': datetime.date(2023, 1, 1), 'Price End Date': None}, {'Item number': 1045, 'Price': 48828, 'Price Effective Date': datetime.date(2023, 1, 1), 'Price End Date': None}, {'Item number': 1046, 'Price': 65369, 'Price Effective Date': datetime.date(2023, 1, 1), 'Price End Date': None}, {'Item number': 1047, 'Price': 41317, 'Price Effective Date': datetime.date(2023, 1, 1), 'Price End Date': None}, {'Item number': 1048, 'Price': 38065, 'Price Effective Date': datetime.date(2023, 1, 1), 'Price End Date': None}, {'Item number': 1049, 'Price': 72212, 'Price Effective Date': datetime.date(2023, 1, 1), 'Price End Date': None}, {'Item number': 1050, 'Price': 21740, 'Price Effective Date': datetime.date(2023, 1, 1), 'Price End Date': None}, {'Item number': 1051, 'Price': 55886, 'Price Effective Date': datetime.date(2023, 1, 1), 'Price End Date': None}, {'Item number': 1052, 'Price': 26059, 'Price Effective Date': datetime.date(2023, 1, 1), 'Price End Date': None}, {'Item number': 1053, 'Price': 67373, 'Price Effective Date': datetime.date(2023, 1, 1), 'Price End Date': None}, {'Item number': 1054, 'Price': 61363, 'Price Effective Date': datetime.date(2023, 1, 1), 'Price End Date': None}, {'Item number': 1055, 'Price': 8134, 'Price Effective Date': datetime.date(2023, 1, 1), 'Price End Date': None}, {'Item number': 1056, 'Price': 18723, 'Price Effective Date': datetime.date(2023, 1, 1), 'Price End Date': None}, {'Item number': 1057, 'Price': 1484, 'Price Effective Date': datetime.date(2023, 1, 1), 'Price End Date': None}, {'Item number': 1058, 'Price': 73006, 'Price Effective Date': datetime.date(2023, 1, 1), 'Price End Date': None}, {'Item number': 1059, 'Price': 56103, 'Price Effective Date': datetime.date(2023, 1, 1), 'Price End Date': None}, {'Item number': 1060, 'Price': 42722, 'Price Effective Date': datetime.date(2023, 1, 1), 'Price End Date': None}, {'Item number': 1061, 'Price': 27756, 'Price Effective Date': datetime.date(2023, 1, 1), 'Price End Date': None}, {'Item number': 1062, 'Price': 68371, 'Price Effective Date': datetime.date(2023, 1, 1), 'Price End Date': None}, {'Item number': 1063, 'Price': 53897, 'Price Effective Date': datetime.date(2023, 1, 1), 'Price End Date': None}, {'Item number': 1064, 'Price': 17713, 'Price Effective Date': datetime.date(2023, 1, 1), 'Price End Date': None}, {'Item number': 1065, 'Price': 8961, 'Price Effective Date': datetime.date(2023, 1, 1), 'Price End Date': None}, {'Item number': 1066, 'Price': 24403, 'Price Effective Date': datetime.date(2023, 1, 1), 'Price End Date': None}, {'Item number': 1067, 'Price': 36432, 'Price Effective Date': datetime.date(2023, 1, 1), 'Price End Date': None}, {'Item number': 1068, 'Price': 51179, 'Price Effective Date': datetime.date(2023, 1, 1), 'Price End Date': None}, {'Item number': 1069, 'Price': 11390, 'Price Effective Date': datetime.date(2023, 1, 1), 'Price End Date': None}, {'Item number': 1070, 'Price': 4234, 'Price Effective Date': datetime.date(2023, 1, 1), 'Price End Date': None}, {'Item number': 1071, 'Price': 50332, 'Price Effective Date': datetime.date(2023, 1, 1), 'Price End Date': None}, {'Item number': 1072, 'Price': 73463, 'Price Effective Date': datetime.date(2023, 1, 1), 'Price End Date': None}, {'Item number': 1073, 'Price': 58700, 'Price Effective Date': datetime.date(2023, 1, 1), 'Price End Date': None}, {'Item number': 1074, 'Price': 37404, 'Price Effective Date': datetime.date(2023, 1, 1), 'Price End Date': None}, {'Item number': 1075, 'Price': 73424, 'Price Effective Date': datetime.date(2023, 1, 1), 'Price End Date': None}, {'Item number': 1076, 'Price': 23388, 'Price Effective Date': datetime.date(2023, 1, 1), 'Price End Date': None}, {'Item number': 1077, 'Price': 14356, 'Price Effective Date': datetime.date(2023, 1, 1), 'Price End Date': None}, {'Item number': 1078, 'Price': 48048, 'Price Effective Date': datetime.date(2023, 1, 1), 'Price End Date': None}, {'Item number': 1079, 'Price': 37194, 'Price Effective Date': datetime.date(2023, 1, 1), 'Price End Date': None}, {'Item number': 1080, 'Price': 41711, 'Price Effective Date': datetime.date(2023, 1, 1), 'Price End Date': None}, {'Item number': 1081, 'Price': 17661, 'Price Effective Date': datetime.date(2023, 1, 1), 'Price End Date': None}, {'Item number': 1082, 'Price': 55107, 'Price Effective Date': datetime.date(2023, 1, 1), 'Price End Date': None}, {'Item number': 1083, 'Price': 6982, 'Price Effective Date': datetime.date(2023, 1, 1), 'Price End Date': None}, {'Item number': 1084, 'Price': 74731, 'Price Effective Date': datetime.date(2023, 1, 1), 'Price End Date': None}, {'Item number': 1085, 'Price': 39748, 'Price Effective Date': datetime.date(2023, 1, 1), 'Price End Date': None}, {'Item number': 1086, 'Price': 43615, 'Price Effective Date': datetime.date(2023, 1, 1), 'Price End Date': None}, {'Item number': 1087, 'Price': 29468, 'Price Effective Date': datetime.date(2023, 1, 1), 'Price End Date': None}, {'Item number': 1088, 'Price': 71169, 'Price Effective Date': datetime.date(2023, 1, 1), 'Price End Date': None}, {'Item number': 1089, 'Price': 15025, 'Price Effective Date': datetime.date(2023, 1, 1), 'Price End Date': None}, {'Item number': 1090, 'Price': 4951, 'Price Effective Date': datetime.date(2023, 1, 1), 'Price End Date': None}, {'Item number': 1091, 'Price': 54701, 'Price Effective Date': datetime.date(2023, 1, 1), 'Price End Date': None}, {'Item number': 1092, 'Price': 32775, 'Price Effective Date': datetime.date(2023, 1, 1), 'Price End Date': None}, {'Item number': 1093, 'Price': 3962, 'Price Effective Date': datetime.date(2023, 1, 1), 'Price End Date': None}, {'Item number': 1094, 'Price': 34585, 'Price Effective Date': datetime.date(2023, 1, 1), 'Price End Date': None}, {'Item number': 1095, 'Price': 16979, 'Price Effective Date': datetime.date(2023, 1, 1), 'Price End Date': None}, {'Item number': 1096, 'Price': 1713, 'Price Effective Date': datetime.date(2023, 1, 1), 'Price End Date': None}, {'Item number': 1097, 'Price': 34020, 'Price Effective Date': datetime.date(2023, 1, 1), 'Price End Date': None}, {'Item number': 1098, 'Price': 71912, 'Price Effective Date': datetime.date(2023, 1, 1), 'Price End Date': None}, {'Item number': 1099, 'Price': 29129, 'Price Effective Date': datetime.date(2023, 1, 1), 'Price End Date': None}]\n"
     ]
    }
   ],
   "source": [
    "products = generate_products(100,1000,50,75000)\n",
    "print(products)"
   ]
  },
  {
   "cell_type": "code",
   "execution_count": 54,
   "metadata": {},
   "outputs": [
    {
     "name": "stdout",
     "output_type": "stream",
     "text": [
      "[[1000, 57913, datetime.date(2023, 1, 1), None], [1001, 55819, datetime.date(2023, 1, 1), None], [1002, 64566, datetime.date(2023, 1, 1), None], [1003, 25517, datetime.date(2023, 1, 1), None], [1004, 21359, datetime.date(2023, 1, 1), None], [1005, 46761, datetime.date(2023, 1, 1), None], [1006, 12906, datetime.date(2023, 1, 1), None], [1007, 62768, datetime.date(2023, 1, 1), None], [1008, 37434, datetime.date(2023, 1, 1), None], [1009, 2527, datetime.date(2023, 1, 1), None], [1010, 36759, datetime.date(2023, 1, 1), None], [1011, 33369, datetime.date(2023, 1, 1), None], [1012, 44281, datetime.date(2023, 1, 1), None], [1013, 46349, datetime.date(2023, 1, 1), None], [1014, 3326, datetime.date(2023, 1, 1), None], [1015, 48544, datetime.date(2023, 1, 1), None], [1016, 43346, datetime.date(2023, 1, 1), None], [1017, 1839, datetime.date(2023, 1, 1), None], [1018, 4337, datetime.date(2023, 1, 1), None], [1019, 34413, datetime.date(2023, 1, 1), None], [1020, 62726, datetime.date(2023, 1, 1), None], [1021, 34763, datetime.date(2023, 1, 1), None], [1022, 63051, datetime.date(2023, 1, 1), None], [1023, 15158, datetime.date(2023, 1, 1), None], [1024, 56493, datetime.date(2023, 1, 1), None], [1025, 35171, datetime.date(2023, 1, 1), None], [1026, 9833, datetime.date(2023, 1, 1), None], [1027, 56777, datetime.date(2023, 1, 1), None], [1028, 41888, datetime.date(2023, 1, 1), None], [1029, 62139, datetime.date(2023, 1, 1), None], [1030, 46919, datetime.date(2023, 1, 1), None], [1031, 14109, datetime.date(2023, 1, 1), None], [1032, 64730, datetime.date(2023, 1, 1), None], [1033, 51457, datetime.date(2023, 1, 1), None], [1034, 47120, datetime.date(2023, 1, 1), None], [1035, 47865, datetime.date(2023, 1, 1), None], [1036, 10327, datetime.date(2023, 1, 1), None], [1037, 70245, datetime.date(2023, 1, 1), None], [1038, 1767, datetime.date(2023, 1, 1), None], [1039, 26303, datetime.date(2023, 1, 1), None], [1040, 12027, datetime.date(2023, 1, 1), None], [1041, 1908, datetime.date(2023, 1, 1), None], [1042, 4728, datetime.date(2023, 1, 1), None], [1043, 22704, datetime.date(2023, 1, 1), None], [1044, 7099, datetime.date(2023, 1, 1), None], [1045, 48111, datetime.date(2023, 1, 1), None], [1046, 44420, datetime.date(2023, 1, 1), None], [1047, 43197, datetime.date(2023, 1, 1), None], [1048, 14617, datetime.date(2023, 1, 1), None], [1049, 20503, datetime.date(2023, 1, 1), None], [1050, 47754, datetime.date(2023, 1, 1), None], [1051, 41386, datetime.date(2023, 1, 1), None], [1052, 11925, datetime.date(2023, 1, 1), None], [1053, 74802, datetime.date(2023, 1, 1), None], [1054, 74731, datetime.date(2023, 1, 1), None], [1055, 27718, datetime.date(2023, 1, 1), None], [1056, 6084, datetime.date(2023, 1, 1), None], [1057, 5151, datetime.date(2023, 1, 1), None], [1058, 72897, datetime.date(2023, 1, 1), None], [1059, 33668, datetime.date(2023, 1, 1), None], [1060, 50517, datetime.date(2023, 1, 1), None], [1061, 74543, datetime.date(2023, 1, 1), None], [1062, 20172, datetime.date(2023, 1, 1), None], [1063, 30049, datetime.date(2023, 1, 1), None], [1064, 38749, datetime.date(2023, 1, 1), None], [1065, 49282, datetime.date(2023, 1, 1), None], [1066, 60225, datetime.date(2023, 1, 1), None], [1067, 62360, datetime.date(2023, 1, 1), None], [1068, 50972, datetime.date(2023, 1, 1), None], [1069, 11572, datetime.date(2023, 1, 1), None], [1070, 69402, datetime.date(2023, 1, 1), None], [1071, 24421, datetime.date(2023, 1, 1), None], [1072, 3514, datetime.date(2023, 1, 1), None], [1073, 71280, datetime.date(2023, 1, 1), None], [1074, 20643, datetime.date(2023, 1, 1), None], [1075, 19074, datetime.date(2023, 1, 1), None], [1076, 20877, datetime.date(2023, 1, 1), None], [1077, 12425, datetime.date(2023, 1, 1), None], [1078, 4076, datetime.date(2023, 1, 1), None], [1079, 8243, datetime.date(2023, 1, 1), None], [1080, 24239, datetime.date(2023, 1, 1), None], [1081, 45887, datetime.date(2023, 1, 1), None], [1082, 24477, datetime.date(2023, 1, 1), None], [1083, 35794, datetime.date(2023, 1, 1), None], [1084, 38115, datetime.date(2023, 1, 1), None], [1085, 11345, datetime.date(2023, 1, 1), None], [1086, 41457, datetime.date(2023, 1, 1), None], [1087, 1834, datetime.date(2023, 1, 1), None], [1088, 2925, datetime.date(2023, 1, 1), None], [1089, 41155, datetime.date(2023, 1, 1), None], [1090, 22536, datetime.date(2023, 1, 1), None], [1091, 23413, datetime.date(2023, 1, 1), None], [1092, 37305, datetime.date(2023, 1, 1), None], [1093, 22414, datetime.date(2023, 1, 1), None], [1094, 72083, datetime.date(2023, 1, 1), None], [1095, 32573, datetime.date(2023, 1, 1), None], [1096, 4179, datetime.date(2023, 1, 1), None], [1097, 38697, datetime.date(2023, 1, 1), None], [1098, 53046, datetime.date(2023, 1, 1), None], [1099, 11394, datetime.date(2023, 1, 1), None]]\n"
     ]
    }
   ],
   "source": [
    "products.index()"
   ]
  }
 ],
 "metadata": {
  "kernelspec": {
   "display_name": ".venv",
   "language": "python",
   "name": "python3"
  },
  "language_info": {
   "codemirror_mode": {
    "name": "ipython",
    "version": 3
   },
   "file_extension": ".py",
   "mimetype": "text/x-python",
   "name": "python",
   "nbconvert_exporter": "python",
   "pygments_lexer": "ipython3",
   "version": "3.13.1"
  }
 },
 "nbformat": 4,
 "nbformat_minor": 2
}
