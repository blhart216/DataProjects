{
 "cells": [
  {
   "cell_type": "code",
   "execution_count": 301,
   "metadata": {},
   "outputs": [],
   "source": [
    "import random\n",
    "import string\n",
    "import datetime\n",
    "import pandas as pd"
   ]
  },
  {
   "cell_type": "code",
   "execution_count": 302,
   "metadata": {},
   "outputs": [],
   "source": [
    "#initialize a few parameters\n",
    "\n",
    "beginning_date = datetime.date(2023, 1, 1)\n",
    "n = 5000\n",
    "numberofpricechanges = 500"
   ]
  },
  {
   "cell_type": "code",
   "execution_count": 303,
   "metadata": {},
   "outputs": [],
   "source": [
    "def generate_products(n,seed,low,high,price_effictive_date=datetime.date(2023,1,1)):\n",
    "    \"\"\"\n",
    "            Generates a list of products with random prices\n",
    "\n",
    "\n",
    "    Args:\n",
    "        n (int): The number of products.\n",
    "        seed (int): The starting number for the product id\n",
    "        low (int): The low end of random price range\n",
    "        high (int): The high end of random price range\n",
    "        price_effective_date (datetime):  The effective Date of the price.\n",
    "\n",
    "\n",
    "    Returns:\n",
    "        list\n",
    "        \"\"\"\n",
    "    products = []\n",
    "    product_line = {}\n",
    "    for item_number in range(seed,n+seed):\n",
    "        random_price = random.randint(low,high)\n",
    "        products.append({\"Item Number\":item_number,\"Price\":random_price,\"Price Effective Date\":price_effictive_date,\"Price End Date\":None})\n",
    "    return products\n",
    "       "
   ]
  },
  {
   "cell_type": "code",
   "execution_count": 304,
   "metadata": {},
   "outputs": [],
   "source": [
    "def generate_rand_price_change():\n",
    "    \"\"\"\n",
    "            Generates a random % in multiples of 5 -50% to 50%\n",
    "    Args:\n",
    "        None.\n",
    "    Returns:\n",
    "        float\n",
    "        \"\"\"\n",
    "    d = random.randint(-10,10)\n",
    "    return (d*5)/100"
   ]
  },
  {
   "cell_type": "code",
   "execution_count": 305,
   "metadata": {},
   "outputs": [],
   "source": [
    "def add_days(start_date,days):\n",
    "    \"\"\"\n",
    "            returns the date after adding the specified numnber of days\n",
    "    Args:\n",
    "        start_date:  The beginning date\n",
    "        days: Number of days to add\n",
    "    Returns:\n",
    "        datetime\n",
    "        \"\"\"\n",
    "    return start_date + datetime.timedelta(days=days)\n"
   ]
  },
  {
   "cell_type": "code",
   "execution_count": 306,
   "metadata": {},
   "outputs": [],
   "source": [
    "def update_product_prices(df,n):\n",
    "    \"\"\"\n",
    "            returns a Df with new price changes\n",
    "    Args:\n",
    "        df:  dataframe with the product listing\n",
    "        n: Number of price changes to make\n",
    "    Returns:\n",
    "        dataframe\n",
    "        \"\"\"\n",
    "    min_i = df['Item Number'].min()\n",
    "    max_i = df['Item Number'].max()\n",
    "\n",
    "    for repeat in range(n):\n",
    "        new_index = df.shape[0]\n",
    "        \n",
    "        item_number = random.randint(min_i,max_i)\n",
    "        change_percent = generate_rand_price_change()\n",
    "        change_date = add_days(beginning_date,random.randint(1,730))\n",
    "        \n",
    "        latest_record_dt = df.loc[df[\"Item Number\"]==item_number][\"Price Effective Date\"].max()\n",
    "        old_index =  df.loc[(df[\"Item Number\"]==item_number) & (df[\"Price Effective Date\"]==latest_record_dt)].index[0]\n",
    "        \n",
    "        previous_price = df.at[old_index,'Price']\n",
    "       \n",
    "        random_price = previous_price + (previous_price * change_percent )\n",
    "        \n",
    "        #insert new row\n",
    "        df.loc[new_index] = [item_number,random_price,change_date,None]\n",
    "\n",
    "        #Update price End Date\n",
    "        df.loc[old_index,\"Price End Date\"] = change_date\n",
    "\n",
    "    return df\n",
    "\n",
    "    "
   ]
  },
  {
   "cell_type": "code",
   "execution_count": 307,
   "metadata": {},
   "outputs": [],
   "source": [
    "products = generate_products(n,1000,50,75000)\n"
   ]
  },
  {
   "cell_type": "code",
   "execution_count": 308,
   "metadata": {},
   "outputs": [
    {
     "data": {
      "text/html": [
       "<div>\n",
       "<style scoped>\n",
       "    .dataframe tbody tr th:only-of-type {\n",
       "        vertical-align: middle;\n",
       "    }\n",
       "\n",
       "    .dataframe tbody tr th {\n",
       "        vertical-align: top;\n",
       "    }\n",
       "\n",
       "    .dataframe thead th {\n",
       "        text-align: right;\n",
       "    }\n",
       "</style>\n",
       "<table border=\"1\" class=\"dataframe\">\n",
       "  <thead>\n",
       "    <tr style=\"text-align: right;\">\n",
       "      <th></th>\n",
       "      <th>Item Number</th>\n",
       "      <th>Price</th>\n",
       "      <th>Price Effective Date</th>\n",
       "      <th>Price End Date</th>\n",
       "    </tr>\n",
       "  </thead>\n",
       "  <tbody>\n",
       "    <tr>\n",
       "      <th>0</th>\n",
       "      <td>1000</td>\n",
       "      <td>26811</td>\n",
       "      <td>2023-01-01</td>\n",
       "      <td>None</td>\n",
       "    </tr>\n",
       "    <tr>\n",
       "      <th>1</th>\n",
       "      <td>1001</td>\n",
       "      <td>74565</td>\n",
       "      <td>2023-01-01</td>\n",
       "      <td>None</td>\n",
       "    </tr>\n",
       "    <tr>\n",
       "      <th>2</th>\n",
       "      <td>1002</td>\n",
       "      <td>63437</td>\n",
       "      <td>2023-01-01</td>\n",
       "      <td>None</td>\n",
       "    </tr>\n",
       "    <tr>\n",
       "      <th>3</th>\n",
       "      <td>1003</td>\n",
       "      <td>50341</td>\n",
       "      <td>2023-01-01</td>\n",
       "      <td>None</td>\n",
       "    </tr>\n",
       "    <tr>\n",
       "      <th>4</th>\n",
       "      <td>1004</td>\n",
       "      <td>9082</td>\n",
       "      <td>2023-01-01</td>\n",
       "      <td>None</td>\n",
       "    </tr>\n",
       "  </tbody>\n",
       "</table>\n",
       "</div>"
      ],
      "text/plain": [
       "   Item Number  Price Price Effective Date Price End Date\n",
       "0         1000  26811           2023-01-01           None\n",
       "1         1001  74565           2023-01-01           None\n",
       "2         1002  63437           2023-01-01           None\n",
       "3         1003  50341           2023-01-01           None\n",
       "4         1004   9082           2023-01-01           None"
      ]
     },
     "metadata": {},
     "output_type": "display_data"
    }
   ],
   "source": [
    "products_df = pd.DataFrame(products)\n",
    "display(products_df.head(5))"
   ]
  },
  {
   "cell_type": "code",
   "execution_count": 309,
   "metadata": {},
   "outputs": [],
   "source": [
    "updated_products_df = update_product_prices(products_df,100)"
   ]
  },
  {
   "cell_type": "code",
   "execution_count": 310,
   "metadata": {},
   "outputs": [],
   "source": [
    "updated_products_df.to_csv(\"ProductPricing.csv\")"
   ]
  },
  {
   "cell_type": "code",
   "execution_count": null,
   "metadata": {},
   "outputs": [],
   "source": []
  }
 ],
 "metadata": {
  "kernelspec": {
   "display_name": "Python 3",
   "language": "python",
   "name": "python3"
  },
  "language_info": {
   "codemirror_mode": {
    "name": "ipython",
    "version": 3
   },
   "file_extension": ".py",
   "mimetype": "text/x-python",
   "name": "python",
   "nbconvert_exporter": "python",
   "pygments_lexer": "ipython3",
   "version": "3.13.1"
  }
 },
 "nbformat": 4,
 "nbformat_minor": 2
}
